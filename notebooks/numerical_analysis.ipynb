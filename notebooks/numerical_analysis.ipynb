{
 "cells": [
  {
   "cell_type": "markdown",
   "id": "921bf9a3",
   "metadata": {},
   "source": [
    "<span style=\"font-family:Papyrus; font-size:3em;\">Numerical Analysis of Some Fitting Surfaces</span>"
   ]
  },
  {
   "cell_type": "markdown",
   "id": "f5eefd52",
   "metadata": {},
   "source": [
    "# Preliminaries"
   ]
  },
  {
   "cell_type": "code",
   "execution_count": null,
   "id": "df0e85c6",
   "metadata": {},
   "outputs": [],
   "source": [
    "import matplotlib.pyplot as plt\n",
    "from matplotlib.colors import ListedColormap\n",
    "import numpy as np\n",
    "import tellurium as te\n",
    "import pandas as pd\n",
    "import seaborn as sn"
   ]
  },
  {
   "cell_type": "code",
   "execution_count": null,
   "id": "09eb4c92",
   "metadata": {},
   "outputs": [],
   "source": [
    "NRMSE = \"nrmse\"  # Normalized root of the mean square error (residuals)"
   ]
  },
  {
   "cell_type": "markdown",
   "id": "3f73815b",
   "metadata": {},
   "source": [
    "# One Species Pathway"
   ]
  },
  {
   "cell_type": "markdown",
   "id": "15303459",
   "metadata": {},
   "source": [
    "Consider the pathway $X0 \\xrightarrow{k_1} x \\xrightarrow{k_2} X_1$, where $X_0$ and $X1$ have fixed concentrations and reactions kinetics\n",
    "are mass action with kinetic constants $k_i$.\n",
    "Then, $\\frac{dx}{dt} = k_1 X_0 - k_2 x$.\n",
    "We want to explore the fitting surface for $k_1, K_2$."
   ]
  },
  {
   "cell_type": "code",
   "execution_count": null,
   "id": "306fdca3",
   "metadata": {},
   "outputs": [],
   "source": [
    "MODEL = \"\"\"\n",
    "\n",
    "J1: $X0 -> x; k1*X0\n",
    "J2: x -> $X1; k2*x\n",
    "\n",
    "X0 = 1\n",
    "x = 0\n",
    "k1 = 1\n",
    "k2 = 1\n",
    "\"\"\""
   ]
  },
  {
   "cell_type": "code",
   "execution_count": null,
   "id": "47c05f4a",
   "metadata": {},
   "outputs": [],
   "source": [
    "PARAMETER_DCT = {\"k1\": 1, \"k2\": 1}"
   ]
  },
  {
   "cell_type": "code",
   "execution_count": null,
   "id": "919f2a21",
   "metadata": {},
   "outputs": [],
   "source": [
    "rr = te.loada(MODEL)\n",
    "trueData = rr.simulate()\n",
    "rr.plot(trueData)"
   ]
  },
  {
   "cell_type": "markdown",
   "id": "72eb87b1",
   "metadata": {},
   "source": [
    "# ResidualCalculations"
   ]
  },
  {
   "cell_type": "code",
   "execution_count": null,
   "id": "9cc69516",
   "metadata": {},
   "outputs": [],
   "source": [
    "def simulateModel(parameterDct, model=MODEL):\n",
    "    \"\"\"\n",
    "    Runs the simulation with the parameter values in the Dct\n",
    "    \n",
    "    Parameters\n",
    "    ----------\n",
    "    parameterDct\n",
    "        key: parameterName\n",
    "        value: value of parameter\n",
    "        \n",
    "    Returns\n",
    "    -------\n",
    "    NamedArray\n",
    "    \"\"\"\n",
    "    rr = te.loada(model)\n",
    "    for parameterName, value in parameterDct.items():\n",
    "        rr[parameterName] = value\n",
    "    return rr.simulate()\n",
    "\n",
    "# Test\n",
    "result = simulateModel({\"k1\": 1, \"k2\": 1})\n",
    "length = len(result)\n",
    "assert(result[length - 1, -1] > 0.99 )"
   ]
  },
  {
   "cell_type": "code",
   "execution_count": null,
   "id": "ea0249d6",
   "metadata": {},
   "outputs": [],
   "source": [
    "def getFlatValues(parameterDct, model):\n",
    "    \"\"\"\n",
    "    Provides one dimensional array of simulation results.\n",
    "    \n",
    "    Parameters\n",
    "    ----------\n",
    "    parameterDct: dict\n",
    "    model: str\n",
    "        Antimony string\n",
    "    \"\"\"\n",
    "    data = simulateModel(parameterDct, model=model)\n",
    "    flattenedArr = (data[:, 1:]).flatten()\n",
    "    return flattenedArr\n",
    "\n",
    "# Tests\n",
    "values = getFlatValues(PARAMETER_DCT, MODEL)\n",
    "assert(isinstance(values, np.ndarray))  # Is a numpy array\n",
    "assert(np.isclose(values[0], 0))  # Starts at 0\n",
    "assert(not np.isnan(sum(values)))  # No nan"
   ]
  },
  {
   "cell_type": "code",
   "execution_count": null,
   "id": "e3fc2539",
   "metadata": {},
   "outputs": [],
   "source": [
    "def calcNrmse(baseArr, parameterDct, model=MODEL):\n",
    "    \"\"\"\n",
    "    Calculates the R^2 value for the difference between the aseline and parameters.\n",
    "    \n",
    "    Parameters\n",
    "    ----------\n",
    "    baseArr: flattened array of results for baseline\n",
    "    parameterDct: dict\n",
    "        changed parameters\n",
    "    model: str\n",
    "         antimony model\n",
    "         \n",
    "    Returns\n",
    "    -------\n",
    "    float\n",
    "        root of the mean square error normalized by the variance of the base\n",
    "    \"\"\"\n",
    "    newArr = getFlatValues(parameterDct, model)\n",
    "    residualsArr = baseArr - newArr\n",
    "    nrmse = np.var(residualsArr)/np.var(baseArr)\n",
    "    return nrmse\n",
    "\n",
    "# Tests\n",
    "baseArr = getFlatValues(PARAMETER_DCT, MODEL)\n",
    "nrmse = calcNrmse(baseArr, PARAMETER_DCT)\n",
    "assert(nrmse == 0.0)\n",
    "parameterDct1 = {\"k1\": 2, \"k2\": 1}\n",
    "nrmse = calcNrmse(baseArr, parameterDct1)\n",
    "assert(nrmse > 0.1)"
   ]
  },
  {
   "cell_type": "markdown",
   "id": "64efd791",
   "metadata": {},
   "source": [
    "# Experimental Design"
   ]
  },
  {
   "cell_type": "markdown",
   "id": "b9d00860",
   "metadata": {},
   "source": [
    "Constructs a dataframe where the columns are parameter names and the values are values of the parameter. The middle index is the original value."
   ]
  },
  {
   "cell_type": "code",
   "execution_count": null,
   "id": "5a6b7dcd",
   "metadata": {},
   "outputs": [],
   "source": [
    "def mkParameterRange(initialValue, changeFrc, numPoint):\n",
    "    \"\"\"\n",
    "    Creates an array of values centered on the initial value\n",
    "    \n",
    "    Parameters\n",
    "    ----------\n",
    "    initialValue: float\n",
    "    changeFrc: float\n",
    "        maximum fractional change\n",
    "    numPoint: int\n",
    "    \n",
    "    Result\n",
    "    ------\n",
    "    np.array\n",
    "    \"\"\"\n",
    "    if numPoint % 2 == 0:\n",
    "        numPoint += 1\n",
    "    maxChange = initialValue*changeFrc\n",
    "    return np.linspace(start=initialValue-maxChange,\n",
    "                      stop=initialValue+maxChange,\n",
    "                      num=numPoint)\n",
    "\n",
    "# Tests\n",
    "size = 10\n",
    "arr = mkParameterRange(2, 0.5, size)\n",
    "assert(len(arr) == size+1)\n",
    "assert(arr[0] == 1)"
   ]
  },
  {
   "cell_type": "code",
   "execution_count": null,
   "id": "545c869e",
   "metadata": {},
   "outputs": [],
   "source": [
    "def mkFactorialDesign(parameterDct, maxChangeFrc, numLevel):\n",
    "    \"\"\"\n",
    "    Creates a factorial design for the parameters. Levels are determined\n",
    "    by fractional changes in the initial value based on the maximum\n",
    "    fractional change, either positive or negative.\n",
    "    \n",
    "    Parameter\n",
    "    ---------\n",
    "    parameterDct: dict\n",
    "    maxChangeFrc: float\n",
    "        maximum change fraction in positive and negative direction\n",
    "    numLevel: int\n",
    "        total number of points in an axis\n",
    "    \n",
    "    Returns\n",
    "    -------\n",
    "    pd.DataFrame\n",
    "       Columns:\n",
    "           parameter name: contains parameter value\n",
    "           rsq: rsq w.r.t. a change of 0\n",
    "    \"\"\"\n",
    "    # Calculate number of points in one direction\n",
    "    if numLevel // 2 == 0:\n",
    "        numHalf = numLevel // 2\n",
    "    else:\n",
    "        numHalf = (numLevel - 1) // 2\n",
    "    #\n",
    "    incrFrc = maxChangeFrc / numHalf\n",
    "    posFrcs = np.array([n*incrFrc for n in range(1, numHalf+1)])\n",
    "    negFrcs = - posFrcs\n",
    "    negFrcs = np.sort(negFrcs)\n",
    "    frcs = np.concatenate([negFrcs, np.array([0]), posFrcs])\n",
    "    # Construct parameter values\n",
    "    parameterNames = list(parameterDct.keys())\n",
    "    levelDct = {}\n",
    "    for parameterName in parameterNames:\n",
    "        levelDct[parameterName] = (1 + frcs)*parameterDct[parameterName]\n",
    "    # Construct the parameter columns\n",
    "    designDF = pd.DataFrame({parameterNames[0]: levelDct[parameterNames[0]]})\n",
    "    for parameterName in parameterNames[1:]:\n",
    "        values = levelDct[parameterName]\n",
    "        dfs = []\n",
    "        for value in values:\n",
    "            newDF = designDF.copy()\n",
    "            newDF[parameterName] = value\n",
    "            dfs.append(newDF)\n",
    "        designDF = pd.concat(dfs)\n",
    "    designDF.index = range(len(designDF))\n",
    "    # Run the simulations\n",
    "    return designDF\n",
    "        \n",
    "# Tests\n",
    "numLevel = 5\n",
    "parameterDct = {\"k1\": 1, \"k2\": 2, \"k3\": 3}\n",
    "designDF = mkFactorialDesign(parameterDct, 1.0, numLevel)\n",
    "# Correct length\n",
    "assert(len(designDF) == numLevel**len(parameterDct))\n",
    "# First values are 0\n",
    "trues = [v == 0 for v in designDF.loc[0,:]]\n",
    "assert(all(trues))\n",
    "# Middle value is the original value of the parameter\n",
    "midIdx = (len(designDF) - 1) // 2\n",
    "trues = [designDF.loc[midIdx, k] == parameterDct[k] for k in parameterDct.keys()]\n",
    "assert(all(trues))"
   ]
  },
  {
   "cell_type": "markdown",
   "id": "9a05d933",
   "metadata": {},
   "source": [
    "# Run Experiments"
   ]
  },
  {
   "cell_type": "code",
   "execution_count": null,
   "id": "b3d42003",
   "metadata": {},
   "outputs": [],
   "source": [
    "def runExperiments(designDF, model=MODEL, baseParameterDct=PARAMETER_DCT):\n",
    "    \"\"\"\n",
    "    Runs experiments for each combination of parameter values.\n",
    "    \n",
    "    Parameters\n",
    "    ----------\n",
    "    designDF: pd.DataFrame\n",
    "        Columns: parameter names\n",
    "        Values: values of parameter\n",
    "    model: str\n",
    "        Antimony model\n",
    "    baseParameterDct: dict\n",
    "        baseline values of parameters\n",
    "        \n",
    "    Returns\n",
    "    -------\n",
    "    simDF: pd.DataFrame\n",
    "        Columns: parameter names, NRMSE\n",
    "    \"\"\"\n",
    "    baseArr = getFlatValues(baseParameterDct, model)\n",
    "    #\n",
    "    nrmses = []\n",
    "    for idx, rowSer in designDF.iterrows():\n",
    "        parameterDct = rowSer.to_dict()\n",
    "        nrmse = calcNrms(baseArr, parameterDct=parameterDct, model=model)\n",
    "        nrmses.append(nrmse)\n",
    "    #\n",
    "    simDF = designDF.copy()\n",
    "    simDF[NRMSE] = nrmses\n",
    "    return simDF\n",
    "        \n",
    "#\n",
    "numLevel = 50\n",
    "designDF = mkFactorialDesign(PARAMETER_DCT, 1.0, numLevel)\n",
    "SIM_DF = runExperiments(designDF)"
   ]
  },
  {
   "cell_type": "markdown",
   "id": "fbbc3164",
   "metadata": {},
   "source": [
    "# Visualization"
   ]
  },
  {
   "cell_type": "code",
   "execution_count": null,
   "id": "fa07d6c4",
   "metadata": {},
   "outputs": [],
   "source": [
    "def plotSimDF(simDF, ax=None, fig=None, scale=1.0, isColorBar=True):\n",
    "    \"\"\"\n",
    "    Plots the results of simulation experiments.\n",
    "    \n",
    "    Parameters:\n",
    "    simDF: pd.DataFrame\n",
    "        Simulation experiments dataframe\n",
    "        Columns: x axis parameter, y axis parameter\n",
    "        Values: RSQ\n",
    "    scale: float in [0, 1]\n",
    "        Scale the range of values displayed\n",
    "    \"\"\"\n",
    "    # Handle axes and figure\n",
    "    if (ax is None) or (fig is None):\n",
    "        fig, ax = plt.subplots(1)\n",
    "    # Create a table for the contour\n",
    "    columns = list(simDF.columns)\n",
    "    rowName = columns[0]\n",
    "    colName = columns[1]\n",
    "    df = simDF.copy()\n",
    "    df = df.astype(float)\n",
    "    pivotDF = df.pivot_table(values=[NRMSE], columns=[colName], index=[rowName])\n",
    "    # Construct the contour\n",
    "    my_cmap = sn.cubehelix_palette(start=3, rot=0.6, reverse=False, as_cmap=True)\n",
    "    xv = np.array(list(set(simDF[rowName])))\n",
    "    xv.sort()\n",
    "    yv = np.array(list(set(simDF[colName])))\n",
    "    yv.sort()\n",
    "    zv = pivotDF.to_numpy()\n",
    "    maxLevel = scale*simDF.max().max()\n",
    "    levels = [0.01*n*maxLevel for n in range(100)]\n",
    "    contourPlot = ax.contourf(xv, yv, zv, levels=levels, cmap=my_cmap)\n",
    "    if isColorBar:\n",
    "        cbar = plt.colorbar(contourPlot)\n",
    "        cbar.ax.set_ylabel('Normalized RMSE')\n",
    "    ax.set_xlabel(rowName)\n",
    "    ax.set_ylabel(colName)\n",
    "    # Mark the center\n",
    "    ax.yaxis.grid(True, linewidth=0.2, linestyle='-', color='0.05')\n",
    "    ax.xaxis.grid(True, linewidth=0.2, linestyle='-', color='0.05')\n",
    "    # Mark the center\n",
    "    xIdx = (len(xv) - 1) // 2\n",
    "    yIdx = (len(yv) - 1) // 2\n",
    "    ax.scatter(xv[xIdx], yv[yIdx], color=\"red\")\n",
    "    return pivotDF\n",
    "\n",
    "# Tests\n",
    "df = plotSimDF(SIM_DF, scale=0.001)"
   ]
  },
  {
   "cell_type": "code",
   "execution_count": null,
   "id": "ae728cb9",
   "metadata": {},
   "outputs": [],
   "source": [
    "scales = [1, 0.001]\n",
    "for scale, ax in zip(scales, axes):\n",
    "    _ = plotSimDF(SIM_DF, scale=scale)"
   ]
  },
  {
   "cell_type": "markdown",
   "id": "4fbc6514",
   "metadata": {},
   "source": [
    "**observations**\n",
    "1. What happened in the upper left?\n",
    "1. Convex surface\n",
    "1. Steeper slope for minima for $k_2$ compared with $k_1$.\n",
    "1. $R^2$ values are very close together for the half parabola boing through $(1, 1)$.\n"
   ]
  },
  {
   "cell_type": "code",
   "execution_count": null,
   "id": "dfa5f4ff",
   "metadata": {},
   "outputs": [],
   "source": [
    "df"
   ]
  },
  {
   "cell_type": "markdown",
   "id": "48eb34e6",
   "metadata": {},
   "source": [
    "# Plots"
   ]
  },
  {
   "cell_type": "code",
   "execution_count": null,
   "id": "96ede5c0",
   "metadata": {},
   "outputs": [],
   "source": [
    "import numpy as np\n",
    "from matplotlib import pyplot as plt\n",
    "from mpl_toolkits.mplot3d import Axes3D\n",
    "from math import sin, cos, pi\n",
    "import matplotlib.cm as cm\n",
    "\n",
    "fig = plt.figure()\n",
    "ax = fig.add_subplot(111, projection='3d')\n",
    "\n",
    "#creating grid\n",
    "y = np.linspace(-1,1,200)\n",
    "x = np.linspace(-1,1,200)\n",
    "x,y = np.meshgrid(x,y)\n",
    "\n",
    "#set z values\n",
    "z0 = x**2+y**2\n",
    "\n",
    "# rotate the samples by pi / 4 radians around y\n",
    "if False:\n",
    "    a = pi / 4\n",
    "    t = np.transpose(np.array([x,y,z0]), (1,2,0))\n",
    "    m = [[cos(a), 0, sin(a)],[0,1,0],[-sin(a), 0, cos(a)]]\n",
    "    x,y,z = np.transpose(np.dot(t, m), (2,0,1))\n",
    "    # or `np.dot(t, m)` instead `t @ m`\n",
    "\n",
    "\n",
    "#label axes\n",
    "ax.set_xlabel('x')\n",
    "ax.set_ylabel('y')\n",
    "ax.set_zlabel('z')\n",
    "\n",
    "#plot figure\n",
    "ax.plot_surface(x,y,z0,linewidth=0, antialiased=False, shade = True, alpha = 0.5, facecolors=cm.viridis(z0))\n",
    "elevationAng = -140\n",
    "azimuthAng = 40\n",
    "ax.view_init(elevationAng, azimuthAng)\n",
    "\n",
    "plt.show()"
   ]
  },
  {
   "cell_type": "code",
   "execution_count": null,
   "id": "b306723a",
   "metadata": {},
   "outputs": [],
   "source": [
    "sns.palplot(sns.cubehelix_palette(50, hue=0.05, rot=0, light=0.9, dark=0))"
   ]
  },
  {
   "cell_type": "code",
   "execution_count": null,
   "id": "44313ba1",
   "metadata": {},
   "outputs": [],
   "source": [
    "import numpy as np \n",
    "from pandas import DataFrame\n",
    "import matplotlib.pyplot as plt\n",
    "\n",
    "index = ['aaa', 'bbb', 'ccc', 'ddd', 'eee']\n",
    "columns = ['A', 'B', 'C', 'D']\n",
    "df = DataFrame(abs(np.random.randn(5, 4)), index=index, columns=columns)\n",
    "\n",
    "plt.pcolor(df)\n",
    "plt.yticks(np.arange(0.5, len(df.index), 1), df.index)\n",
    "plt.xticks(np.arange(0.5, len(df.columns), 1), df.columns)\n",
    "plt.show()\n"
   ]
  },
  {
   "cell_type": "code",
   "execution_count": null,
   "id": "8f19f52e",
   "metadata": {},
   "outputs": [],
   "source": [
    "import numpy as np \n",
    "from pandas import DataFrame\n",
    "import seaborn as sns\n",
    "%matplotlib inline\n",
    "\n",
    "SIZE = 20\n",
    "Cols = range(SIZE)\n",
    "Index= range(SIZE)\n",
    "df = DataFrame(abs(np.random.randn(SIZE, SIZE)), index=Index, columns=Cols)\n",
    "cmap = sns.cubehelix_palette(50, hue=0.05, rot=0, light=1, dark=0)\n",
    "\n",
    "sns.heatmap(df, annot=False, vmin=0, vmax=1.0, cmap=cmap)\n",
    "\n"
   ]
  },
  {
   "cell_type": "code",
   "execution_count": null,
   "id": "1bbe9a75",
   "metadata": {},
   "outputs": [],
   "source": [
    "from matplotlib.colors import ListedColormap\n",
    "x = np.arange(1, 10)\n",
    "y = x.reshape(-1, 1)\n",
    "h = x * y\n",
    "xv = range(9)\n",
    "yv = range(9)\n",
    "\n",
    "colorPalette = sn.cubehelix_palette(50, hue=0.05, rot=0, light=1, dark=0)\n",
    "my_cmap = ListedColormap(colorPalette.as_hex())\n",
    "\n",
    "fig, ax = plt.subplots(1)\n",
    "#cs = ax.contourf(h, levels=[5*v for v in range(10)], cmap=my_cmap)\n",
    "cs = ax.contourf(xv, yv, h, levels=[5*v for v in range(10)], cmap=my_cmap)\n",
    "#    colors=['#808080', '#A0A0A0', '#C0C0C0'], extend='both')\n",
    "#cs.cmap.set_over('red')\n",
    "#cs.cmap.set_under('blue')\n",
    "cs.changed()\n",
    "# Colorbar\n",
    "cbar = fig.colorbar(cs)\n",
    "cbar.ax.set_ylabel('verbosity coefficient')"
   ]
  },
  {
   "cell_type": "markdown",
   "id": "3fcf8e8c",
   "metadata": {},
   "source": [
    "# Analysis for One Species"
   ]
  },
  {
   "cell_type": "markdown",
   "id": "a2e4743e",
   "metadata": {},
   "source": [
    "1. The solution to the differential equation is\n",
    "$x(t) = X_0 \\frac{k_1}{k_2}(1 - e^{-k_2 t})$\n",
    "\n",
    "1. Let $x^{\\prime}(t)$ have parameters $k^{\\prime}_1$, $k^{\\prime}_2$.\n",
    "\n",
    "1. $r(t) = x(t) - x^{\\prime} (t) = X_0 \\frac{k_1}{k_2}(1 - e^{-k_2 t} )- X_0 \\frac{k^{\\prime}_1}{k^{\\prime}_2}(1 - e^{-k^{\\prime}_2 t})$\n",
    "\n",
    "1. Assume that $\\frac{k_1}{k_2} = \\frac{k^{\\prime}_1}{k^{\\prime}_2}$.\n",
    "Then, $r(t) =  A( -e^{-k_2 t} + e^{-k^{\\prime}_2 t})$, where $A = X_0 \\frac{k_1}{k_2}$.\n",
    "\n",
    "1. The total squared error, $T_{SE} = \\int_0^{\\infty} r^2(t)$. Can compute this integral directly.\n",
    "\n",
    "1. $r^2(t) =  A^2( -e^{-k_2 t} + e^{-k^{\\prime}_2 t})^2$\n",
    "That is, $r^2(t) = A^2 \\left( e^{-2k_2 t} -2 e^{-(k_2 + k^{\\prime}_2)t} + e^{-2k^{\\prime}_2t} \\right)$\n",
    "\n",
    "1. $T = A^2 \\int_0^{\\infty} \\left( e^{-2k_2 t} -2 e^{-(k_2 + k^{\\prime}_2)t} + e^{-2k^{\\prime}_2t} \\right)$\n",
    "\n",
    "1. And so, $T_{SE} = A^2 \\left( - \\frac{1}{2k_2} e^{-2k_2 t} +  \\frac{2}{k_2 + k^{\\prime}_2} e^{-(k_2 + k^{\\prime}_2)t} - \\frac{1}{2k^{\\prime}_2} e^{-2k^{\\prime}_2t} \\right) \\biggr\\vert_0^{\\infty}$\n",
    "\n",
    "1. $T_{SE} = A^2 \\left( \\frac{1}{2k_2} -  \\frac{2}{k_2 + k^{\\prime}_2} + \\frac{1} {2 k^{\\prime}_2}  \\right)$\n",
    "\n"
   ]
  },
  {
   "cell_type": "markdown",
   "id": "49177d17",
   "metadata": {},
   "source": [
    "**Claim:** $\\frac{1}{2 x} -  \\frac{2}{x + y} + \\frac{1} {2 y} \\geq 0$ for $x, y > 0$.\n",
    "\n",
    "1. The claim is equivalent to: $y(x + y) - 4 x y + x (x + y ) \\geq 0$.\n",
    "\n",
    "1. Or, $y^2 - 2xy + x^2 + xy - 2xy + xy = (y - x)^2 \\geq 0$."
   ]
  },
  {
   "cell_type": "markdown",
   "id": "2b58ef85",
   "metadata": {},
   "source": [
    "**Claim**: $T_{SE}$ is convex in $k^{\\prime}_1$, $k^{\\prime}_2$.\n",
    "\n",
    "1. Note that $\\frac{\\partial T_{SE}}{\\partial k^{\\prime}} \\geq 0$."
   ]
  },
  {
   "cell_type": "markdown",
   "id": "08d0fd91",
   "metadata": {},
   "source": [
    "Generalize this to cases where the ratios are not equal?"
   ]
  },
  {
   "cell_type": "markdown",
   "id": "9279b130",
   "metadata": {},
   "source": [
    "# Notes"
   ]
  },
  {
   "cell_type": "markdown",
   "id": "1646888e",
   "metadata": {},
   "source": [
    "1. Objectives\n",
    "   1. Research - relate that nature of the fitting surface to the chemical network. Show in which cases the fitting surface is convex. Provide insights into strategies for fitting.\n",
    "   1. Teaching - provide insights into what is happening with the different fitting algorithms by animating their steps.\n",
    "   \n",
    "1. Research directions\n",
    "   1. Fitting surfaces by network type: linear, branched, feedback.\n",
    "   1. Preliminary insights\n",
    "      1. Detecting easily fit networks\n",
    "      1. When do starting positions matter. For which parameters (because of combinatorics). How narrow parameter ranges (to reduce combinatorics).\n",
    "1. To do\n",
    "    1. Show simulations for different points in the curve, relating the simulation results to $R^2$.\n",
    "    1. Look at longer linear chains.\n",
    "    1. Examine Wolf model"
   ]
  }
 ],
 "metadata": {
  "kernelspec": {
   "display_name": "Python 3",
   "language": "python",
   "name": "python3"
  },
  "language_info": {
   "codemirror_mode": {
    "name": "ipython",
    "version": 3
   },
   "file_extension": ".py",
   "mimetype": "text/x-python",
   "name": "python",
   "nbconvert_exporter": "python",
   "pygments_lexer": "ipython3",
   "version": "3.6.9"
  }
 },
 "nbformat": 4,
 "nbformat_minor": 5
}
