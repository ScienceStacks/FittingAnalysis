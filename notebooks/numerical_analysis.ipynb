{
 "cells": [
  {
   "cell_type": "markdown",
   "id": "f9fba3cd",
   "metadata": {},
   "source": [
    "<span style=\"font-family:Papyrus; font-size:3em;\">Numerical Analysis of Some Fitting Surfaces</span>"
   ]
  },
  {
   "cell_type": "markdown",
   "id": "d2fff309",
   "metadata": {},
   "source": [
    "# Preliminaries"
   ]
  },
  {
   "cell_type": "code",
   "execution_count": 1,
   "id": "4e1a0c4e",
   "metadata": {},
   "outputs": [],
   "source": [
    "import matplotlib.pyplot as plt\n",
    "import numpy as np\n",
    "import tellurium as te\n",
    "import pandas as pd\n",
    "import seaborn as sn"
   ]
  },
  {
   "cell_type": "markdown",
   "id": "880aea64",
   "metadata": {},
   "source": [
    "# One Species Pathway"
   ]
  },
  {
   "cell_type": "markdown",
   "id": "7925f3b9",
   "metadata": {},
   "source": [
    "Consider the pathway $X0 \\xrightarrow{k_1} x \\xrightarrow{k_2} X_1$, where $X_0$ and $X1$ have fixed concentrations and reactions kinetics\n",
    "are mass action with kinetic constants $k_i$.\n",
    "Then, $\\frac{dx}{dt} = k_1 X_0 - k_2 x$.\n",
    "We want to explore the fitting surface for $k_1, K_2$."
   ]
  },
  {
   "cell_type": "code",
   "execution_count": 2,
   "id": "77175d14",
   "metadata": {},
   "outputs": [],
   "source": [
    "MODEL = \"\"\"\n",
    "\n",
    "J1: $X0 -> x; k1*X0\n",
    "J2: x -> $X1; k2*x\n",
    "\n",
    "X0 = 1\n",
    "x = 0\n",
    "k1 = 1\n",
    "k2 = 1\n",
    "\"\"\""
   ]
  },
  {
   "cell_type": "code",
   "execution_count": 3,
   "id": "2793ce47",
   "metadata": {},
   "outputs": [
    {
     "data": {
      "image/png": "[encoded data removed]",
      "text/plain": [
       "<Figure size 432x288 with 1 Axes>"
      ]
     },
     "metadata": {},
     "output_type": "display_data"
    }
   ],
   "source": [
    "rr = te.loada(MODEL)\n",
    "trueData = rr.simulate()\n",
    "rr.plot(trueData)"
   ]
  },
  {
   "cell_type": "code",
   "execution_count": 4,
   "id": "75b44d92",
   "metadata": {},
   "outputs": [],
   "source": [
    "def simulateModel(parameterDct, model=MODEL):\n",
    "    \"\"\"\n",
    "    Runs the simulation with the parameter values in the Dct\n",
    "    \n",
    "    Parameters\n",
    "    ----------\n",
    "    parameterDct\n",
    "        key: parameterName\n",
    "        value: value of parameter\n",
    "        \n",
    "    Returns\n",
    "    -------\n",
    "    NamedArray\n",
    "    \"\"\"\n",
    "    rr = te.loada(model)\n",
    "    for parameterName, value in parameterDct.items():\n",
    "        rr[parameterName] = value\n",
    "    return rr.simulate()\n",
    "\n",
    "# Test\n",
    "result = simulateModel({\"k1\": 1, \"k2\": 1})\n",
    "length = len(result)\n",
    "assert(result[length - 1, -1] > 0.99 )"
   ]
  },
  {
   "cell_type": "code",
   "execution_count": 5,
   "id": "ecb80b3a",
   "metadata": {},
   "outputs": [],
   "source": [
    "def calcRsq(parameterRefDct, parameterOtherDct, model=MODEL):\n",
    "    \"\"\"\n",
    "    Calculates the R^2 value for the difference between the two simulated results.\n",
    "    \n",
    "    Parameters\n",
    "    ----------\n",
    "    parameterRefDct: dict\n",
    "    parameterOtherDct: dict\n",
    "    model: str\n",
    "         antimony model\n",
    "    \"\"\"\n",
    "    def getFlatValues(parameterDct):\n",
    "        data = simulateModel(parameterDct, model=model)\n",
    "        flattenedArr = (data[:, 1:]).flatten()\n",
    "        return flattenedArr\n",
    "    #\n",
    "    refArr = getFlatValues(parameterRefDct)\n",
    "    otherArr = getFlatValues(parameterOtherDct)\n",
    "    residualsArr = refArr - otherArr\n",
    "    rsq = 1 - np.var(residualsArr)/np.var(refArr)\n",
    "    return rsq\n",
    "\n",
    "# Tests\n",
    "parameterDct = {\"k1\": 2, \"k2\": 2}\n",
    "rsq = calcRsq(parameterDct, parameterDct)\n",
    "assert(rsq == 1.0)\n",
    "parameterDct1 = {\"k1\": 2, \"k2\": 1}\n",
    "rsq = calcRsq(parameterDct, parameterDct1)\n",
    "assert(rsq < 0.9)"
   ]
  },
  {
   "cell_type": "code",
   "execution_count": 6,
   "id": "21ff8cc9",
   "metadata": {},
   "outputs": [
    {
     "data": {
      "text/plain": [
       "array([-2. , -1.6, -1.2, -0.8, -0.4,  0. ,  0.4,  0.8,  1.2,  1.6,  2. ])"
      ]
     },
     "execution_count": 6,
     "metadata": {},
     "output_type": "execute_result"
    }
   ],
   "source": [
    "# Create range of parameter changes\n",
    "value = 0\n",
    "lower = -2\n",
    "upper = 2\n",
    "np.linspace(start=lower, stop = upper, num=11)"
   ]
  },
  {
   "cell_type": "code",
   "execution_count": 7,
   "id": "c327cff0",
   "metadata": {},
   "outputs": [],
   "source": [
    "def mkParameterRange(initialValue, changeFrc, numPoint):\n",
    "    \"\"\"\n",
    "    Creates an array of values centered on the initial value\n",
    "    \n",
    "    Parameters\n",
    "    ----------\n",
    "    initialValue: float\n",
    "    changeFrc: float\n",
    "        maximum fractional change\n",
    "    numPoint: int\n",
    "    \n",
    "    Result\n",
    "    ------\n",
    "    np.array\n",
    "    \"\"\"\n",
    "    if numPoint % 2 == 0:\n",
    "        numPoint += 1\n",
    "    maxChange = initialValue*changeFrc\n",
    "    return np.linspace(start=initialValue-maxChange,\n",
    "                      stop=initialValue+maxChange,\n",
    "                      num=numPoint)\n",
    "\n",
    "# Tests\n",
    "size = 10\n",
    "arr = mkParameterRange(2, 0.5, size)\n",
    "assert(len(arr) == size+1)\n",
    "assert(arr[0] == 1)"
   ]
  },
  {
   "cell_type": "code",
   "execution_count": 8,
   "id": "aa4face5",
   "metadata": {},
   "outputs": [
    {
     "data": {
      "text/plain": [
       "(2, 3)"
      ]
     },
     "execution_count": 8,
     "metadata": {},
     "output_type": "execute_result"
    }
   ],
   "source": [
    "xx = np.array( [ [0, 1, 2], [3, 4, 5] ])\n",
    "np.shape(xx)"
   ]
  },
  {
   "cell_type": "code",
   "execution_count": 9,
   "id": "1f7e41a8",
   "metadata": {},
   "outputs": [],
   "source": [
    "def mkFactorialDesign(parameterDct, maxChangeFrc, numLevel):\n",
    "    \"\"\"\n",
    "    Creates a factorial design for the parameters. Levels are determined\n",
    "    by fractional changes in the initial value based on the maximum\n",
    "    fractional change, either positive or negative.\n",
    "    \n",
    "    Parameter\n",
    "    ---------\n",
    "    parameterDct: dict\n",
    "    maxChangeFrc: float\n",
    "        maximum change fraction in positive and negative direction\n",
    "    numLevel: int\n",
    "        total number of points in an axis\n",
    "    \n",
    "    Returns\n",
    "    -------\n",
    "    pd.DataFrame\n",
    "       Columns:\n",
    "           parameter name: contains parameter value\n",
    "           rsq: rsq w.r.t. a change of 0\n",
    "    \"\"\"\n",
    "    # Calculate number of points in one direction\n",
    "    if numLevel // 2 == 0:\n",
    "        numHalf = numLevel // 2\n",
    "    else:\n",
    "        numHalf = (numLevel - 1) // 2\n",
    "    #\n",
    "    incrFrc = maxChangeFrc / numHalf\n",
    "    posFrcs = np.array([n*incrFrc for n in range(1, numHalf+1)])\n",
    "    negFrcs = - posFrcs\n",
    "    negFrcs = np.sort(negFrcs)\n",
    "    frcs = np.concatenate([negFrcs, np.array([0]), posFrcs])\n",
    "    # Construct parameter values\n",
    "    parameterNames = list(parameterDct.keys())\n",
    "    levelDct = {}\n",
    "    for parameterName in parameterNames:\n",
    "        levelDct[parameterName] = (1 + frcs)*parameterDct[parameterName]\n",
    "    # Construct the parameter columns\n",
    "    designDF = pd.DataFrame({parameterNames[0]: levelDct[parameterNames[0]]})\n",
    "    for parameterName in parameterNames[1:]:\n",
    "        values = levelDct[parameterName]\n",
    "        dfs = []\n",
    "        for value in values:\n",
    "            newDF = designDF.copy()\n",
    "            newDF[parameterName] = value\n",
    "            dfs.append(newDF)\n",
    "        designDF = pd.concat(dfs)\n",
    "    designDF.index = range(len(designDF))\n",
    "    # Run the simulations\n",
    "    return designDF\n",
    "        \n",
    "# Tests\n",
    "numLevel = 5\n",
    "parameterDct = {\"k1\": 1, \"k2\": 2, \"k3\": 3}\n",
    "designDF = mkFactorialDesign(parameterDct, 1.0, numLevel)\n",
    "# Correct length\n",
    "assert(len(designDF) == numLevel**len(parameterDct))\n",
    "# First values are 0\n",
    "trues = [v == 0 for v in designDF.loc[0,:]]\n",
    "assert(all(trues))\n",
    "# Middle value is the original value of the parameter\n",
    "midIdx = (len(designDF) - 1) // 2\n",
    "trues = [designDF.loc[midIdx, k] == parameterDct[k] for k in parameterDct.keys()]\n",
    "assert(all(trues))"
   ]
  },
  {
   "cell_type": "code",
   "execution_count": 10,
   "id": "820e0076",
   "metadata": {},
   "outputs": [
    {
     "data": {
      "text/html": [
       "<div>\n",
       "<style scoped>\n",
       "    .dataframe tbody tr th:only-of-type {\n",
       "        vertical-align: middle;\n",
       "    }\n",
       "\n",
       "    .dataframe tbody tr th {\n",
       "        vertical-align: top;\n",
       "    }\n",
       "\n",
       "    .dataframe thead th {\n",
       "        text-align: right;\n",
       "    }\n",
       "</style>\n",
       "<table border=\"1\" class=\"dataframe\">\n",
       "  <thead>\n",
       "    <tr style=\"text-align: right;\">\n",
       "      <th></th>\n",
       "      <th>1</th>\n",
       "      <th>2</th>\n",
       "    </tr>\n",
       "  </thead>\n",
       "  <tbody>\n",
       "    <tr>\n",
       "      <th>0</th>\n",
       "      <td>0</td>\n",
       "      <td>0</td>\n",
       "    </tr>\n",
       "    <tr>\n",
       "      <th>1</th>\n",
       "      <td>1</td>\n",
       "      <td>1</td>\n",
       "    </tr>\n",
       "    <tr>\n",
       "      <th>2</th>\n",
       "      <td>2</td>\n",
       "      <td>2</td>\n",
       "    </tr>\n",
       "    <tr>\n",
       "      <th>0</th>\n",
       "      <td>0</td>\n",
       "      <td>0</td>\n",
       "    </tr>\n",
       "    <tr>\n",
       "      <th>1</th>\n",
       "      <td>1</td>\n",
       "      <td>1</td>\n",
       "    </tr>\n",
       "    <tr>\n",
       "      <th>2</th>\n",
       "      <td>2</td>\n",
       "      <td>2</td>\n",
       "    </tr>\n",
       "    <tr>\n",
       "      <th>3</th>\n",
       "      <td>3</td>\n",
       "      <td>3</td>\n",
       "    </tr>\n",
       "  </tbody>\n",
       "</table>\n",
       "</div>"
      ],
      "text/plain": [
       "   1  2\n",
       "0  0  0\n",
       "1  1  1\n",
       "2  2  2\n",
       "0  0  0\n",
       "1  1  1\n",
       "2  2  2\n",
       "3  3  3"
      ]
     },
     "execution_count": 10,
     "metadata": {},
     "output_type": "execute_result"
    }
   ],
   "source": [
    "s1 = pd.DataFrame({1: range(3), 2: range(3)})\n",
    "s2 = pd.DataFrame({1:range(4), 2: range(4)})\n",
    "pd.concat([s1, s2])"
   ]
  },
  {
   "cell_type": "markdown",
   "id": "58fbdc4a",
   "metadata": {},
   "source": [
    "# 3-d plot"
   ]
  },
  {
   "cell_type": "code",
   "execution_count": 11,
   "id": "4e034a1b",
   "metadata": {},
   "outputs": [
    {
     "data": {
      "image/png": "[encoded data removed]",
      "text/plain": [
       "<Figure size 432x288 with 1 Axes>"
      ]
     },
     "metadata": {
      "needs_background": "light"
     },
     "output_type": "display_data"
    }
   ],
   "source": [
    "import numpy as np\n",
    "from matplotlib import pyplot as plt\n",
    "from mpl_toolkits.mplot3d import Axes3D\n",
    "from math import sin, cos, pi\n",
    "import matplotlib.cm as cm\n",
    "\n",
    "fig = plt.figure()\n",
    "ax = fig.add_subplot(111, projection='3d')\n",
    "\n",
    "#creating grid\n",
    "y = np.linspace(-1,1,200)\n",
    "x = np.linspace(-1,1,200)\n",
    "x,y = np.meshgrid(x,y)\n",
    "\n",
    "#set z values\n",
    "z0 = x**2+y**2\n",
    "\n",
    "# rotate the samples by pi / 4 radians around y\n",
    "if False:\n",
    "    a = pi / 4\n",
    "    t = np.transpose(np.array([x,y,z0]), (1,2,0))\n",
    "    m = [[cos(a), 0, sin(a)],[0,1,0],[-sin(a), 0, cos(a)]]\n",
    "    x,y,z = np.transpose(np.dot(t, m), (2,0,1))\n",
    "    # or `np.dot(t, m)` instead `t @ m`\n",
    "\n",
    "\n",
    "#label axes\n",
    "ax.set_xlabel('x')\n",
    "ax.set_ylabel('y')\n",
    "ax.set_zlabel('z')\n",
    "\n",
    "#plot figure\n",
    "ax.plot_surface(x,y,z0,linewidth=0, antialiased=False, shade = True, alpha = 0.5, facecolors=cm.viridis(z0))\n",
    "elevationAng = -140\n",
    "azimuthAng = 40\n",
    "ax.view_init(elevationAng, azimuthAng)\n",
    "\n",
    "plt.show()"
   ]
  },
  {
   "cell_type": "code",
   "execution_count": 15,
   "id": "0372286a",
   "metadata": {},
   "outputs": [
    {
     "data": {
      "image/png": "[encoded data removed]",
      "text/plain": [
       "<Figure size 3600x72 with 1 Axes>"
      ]
     },
     "metadata": {
      "needs_background": "light"
     },
     "output_type": "display_data"
    }
   ],
   "source": [
    "sns.palplot(sns.cubehelix_palette(50, hue=0.05, rot=0, light=0.9, dark=0))"
   ]
  },
  {
   "cell_type": "code",
   "execution_count": 12,
   "id": "95384a3d",
   "metadata": {},
   "outputs": [
    {
     "data": {
      "image/png": "[encoded data removed]",
      "text/plain": [
       "<Figure size 432x288 with 1 Axes>"
      ]
     },
     "metadata": {
      "needs_background": "light"
     },
     "output_type": "display_data"
    }
   ],
   "source": [
    "import numpy as np \n",
    "from pandas import DataFrame\n",
    "import matplotlib.pyplot as plt\n",
    "\n",
    "index = ['aaa', 'bbb', 'ccc', 'ddd', 'eee']\n",
    "columns = ['A', 'B', 'C', 'D']\n",
    "df = DataFrame(abs(np.random.randn(5, 4)), index=index, columns=columns)\n",
    "\n",
    "plt.pcolor(df)\n",
    "plt.yticks(np.arange(0.5, len(df.index), 1), df.index)\n",
    "plt.xticks(np.arange(0.5, len(df.columns), 1), df.columns)\n",
    "plt.show()\n"
   ]
  },
  {
   "cell_type": "code",
   "execution_count": 22,
   "id": "4a0ad75f",
   "metadata": {},
   "outputs": [
    {
     "data": {
      "text/plain": [
       "<AxesSubplot:>"
      ]
     },
     "execution_count": 22,
     "metadata": {},
     "output_type": "execute_result"
    },
    {
     "data": {
      "image/png": "[encoded data removed]",
      "text/plain": [
       "<Figure size 432x288 with 2 Axes>"
      ]
     },
     "metadata": {
      "needs_background": "light"
     },
     "output_type": "display_data"
    }
   ],
   "source": [
    "import numpy as np \n",
    "from pandas import DataFrame\n",
    "import seaborn as sns\n",
    "%matplotlib inline\n",
    "\n",
    "SIZE = 20\n",
    "Cols = range(SIZE)\n",
    "Index= range(SIZE)\n",
    "df = DataFrame(abs(np.random.randn(SIZE, SIZE)), index=Index, columns=Cols)\n",
    "cmap = sns.cubehelix_palette(50, hue=0.05, rot=0, light=1, dark=0)\n",
    "\n",
    "sns.heatmap(df, annot=False, vmin=0, vmax=1.0, cmap=cmap)\n",
    "\n"
   ]
  }
 ],
 "metadata": {
  "kernelspec": {
   "display_name": "Python 3",
   "language": "python",
   "name": "python3"
  },
  "language_info": {
   "codemirror_mode": {
    "name": "ipython",
    "version": 3
   },
   "file_extension": ".py",
   "mimetype": "text/x-python",
   "name": "python",
   "nbconvert_exporter": "python",
   "pygments_lexer": "ipython3",
   "version": "3.6.9"
  }
 },
 "nbformat": 4,
 "nbformat_minor": 5
}
