{
 "cells": [
  {
   "cell_type": "markdown",
   "id": "1737cb06",
   "metadata": {},
   "source": [
    "<span style=\"font-family:Papyrus; font-size:3em;\">Numerical Analysis of Some Fitting Surfaces</span>"
   ]
  },
  {
   "cell_type": "code",
   "execution_count": 1,
   "id": "80abed77",
   "metadata": {},
   "outputs": [],
   "source": [
    "import matplotlib.pyplot as plt"
   ]
  },
  {
   "cell_type": "markdown",
   "id": "b0289913",
   "metadata": {},
   "source": [
    "# One Species Pathway"
   ]
  },
  {
   "cell_type": "markdown",
   "id": "0e92b9f9",
   "metadata": {},
   "source": [
    "Consider the pathway $X0 \\xrightarrow{k_1} x \\xrightarrow{k_2} X_1$, where $X_0$ and $X1$ have fixed concentrations and reactions kinetics\n",
    "are mass action with kinetic constants $k_i$.\n",
    "Then, $\\frac{dx}{dt} = k_1 X_0 - k_2 x$.\n",
    "We want to explore the fitting surface for $k_1, K_2$."
   ]
  }
 ],
 "metadata": {
  "kernelspec": {
   "display_name": "Python 3",
   "language": "python",
   "name": "python3"
  },
  "language_info": {
   "codemirror_mode": {
    "name": "ipython",
    "version": 3
   },
   "file_extension": ".py",
   "mimetype": "text/x-python",
   "name": "python",
   "nbconvert_exporter": "python",
   "pygments_lexer": "ipython3",
   "version": "3.6.9"
  }
 },
 "nbformat": 4,
 "nbformat_minor": 5
}
